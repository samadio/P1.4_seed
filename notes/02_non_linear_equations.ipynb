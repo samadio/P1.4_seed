{
 "cells": [
  {
   "cell_type": "markdown",
   "metadata": {
    "ein.tags": [
     "worksheet-0"
    ],
    "slideshow": {
     "slide_type": "-"
    }
   },
   "source": [
    "# Nonlinear Equations\n",
    "\n",
    "We want to find a root of the nonlinear function $f$ using different methods.\n",
    "\n",
    "1. Bisection method\n",
    "2. Newton method\n",
    "3. Chord method\n",
    "4. Secant method\n",
    "5. Fixed point iterations\n",
    "\n",
    "\n",
    "\n"
   ]
  },
  {
   "cell_type": "code",
   "execution_count": 2,
   "metadata": {},
   "outputs": [],
   "source": [
    "%matplotlib inline\n",
    "from numpy import *\n",
    "from matplotlib.pyplot import *\n",
    "import sympy as sym\n"
   ]
  },
  {
   "cell_type": "code",
   "execution_count": 9,
   "metadata": {
    "autoscroll": "json-false",
    "ein.tags": [
     "worksheet-0"
    ],
    "slideshow": {
     "slide_type": "-"
    }
   },
   "outputs": [
    {
     "data": {
      "image/png": "[encoded data removed]",
      "text/plain": [
       "<Figure size 432x288 with 1 Axes>"
      ]
     },
     "metadata": {
      "needs_background": "light"
     },
     "output_type": "display_data"
    }
   ],
   "source": [
    "t = sym.symbols('t')\n",
    "\n",
    "f_sym = t/8. * (63.*t**4 - 70.*t**2. +15.) # Legendre polynomial of order 5\n",
    "\n",
    "f_prime_sym = sym.diff(f_sym,t) #computing the derivative f'(t) respect to t, nedded for Newton Method\n",
    "\n",
    "#the following 2 lines are technical: we are allowing the symbol t to be replaced by any numerical value.\n",
    "#so that we can call f(0.5) and it has meaning. Before, f is just a symbol, now it's an actual computed function\n",
    "f = sym.lambdify(t, f_sym, 'numpy')\n",
    "f_prime = sym.lambdify(t,f_prime_sym, 'numpy')\n",
    "\n",
    "phi = lambda x : 63./70.*x**3 + 15./(70.*x)\n",
    "#phi = lambda x : 70.0/15.0*x**3 - 63.0/15.0*x**5\n",
    "#phi = lambda x : sqrt((63.*x**4 + 15.0)/70.)\n",
    "\n",
    "# Let's plot\n",
    "n = 1025 #number of points\n",
    "\n",
    "x = linspace(-1,1,n)\n",
    "c = zeros_like(x)\n",
    "\n",
    "_ = plot(x,f(x))\n",
    "_ = plot(x,c)\n",
    "_ = grid()\n",
    "\n",
    "#having a look at the function and its zeros it's the first step"
   ]
  },
  {
   "cell_type": "code",
   "execution_count": 10,
   "metadata": {},
   "outputs": [],
   "source": [
    "# Initial data for the variuos algorithms\n",
    "\n",
    "# interval in which we seek the solution \n",
    "a = 0.7\n",
    "b = 1.\n",
    "\n",
    "# initial points\n",
    "x0 = (a+b)/2.0\n",
    "x00 = b\n"
   ]
  },
  {
   "cell_type": "code",
   "execution_count": 11,
   "metadata": {},
   "outputs": [],
   "source": [
    "# stopping criteria\n",
    "eps = 1e-10\n",
    "n_max = 1000"
   ]
  },
  {
   "cell_type": "markdown",
   "metadata": {},
   "source": [
    "## Bisection method\n",
    "\n",
    "$$\n",
    "x^k = \\frac{a^k+b^k}{2}\n",
    "$$\n",
    "```\n",
    "                   if (f(a_k) * f(x_k)) < 0:\n",
    "                      b_k1 = x_k\n",
    "                      a_k1 = a_k\n",
    "                   else:\n",
    "                      a_k1 = x_k\n",
    "                      b_k1 = b_k\n",
    "```"
   ]
  },
  {
   "cell_type": "code",
   "execution_count": 85,
   "metadata": {},
   "outputs": [
    {
     "name": "stdout",
     "output_type": "stream",
     "text": [
      "Number of iterations:   32\n",
      "Zero of the function:   0.90617984595\n",
      "Error associated:   7.85726162187e-11\n",
      "    \n",
      "                          Error plot (semilog)\n"
     ]
    },
    {
     "data": {
      "image/png": "[encoded data removed]",
      "text/plain": [
       "<Figure size 432x288 with 1 Axes>"
      ]
     },
     "metadata": {
      "needs_background": "light"
     },
     "output_type": "display_data"
    }
   ],
   "source": [
    "def bisect(f,a,b,eps,n_max):\n",
    "    assert f(a)*f(b)<0\n",
    "    a_new = a\n",
    "    b_new = b\n",
    "    x = mean([a,b])\n",
    "    err = eps + 1.\n",
    "    errors = [err]\n",
    "    it = 0\n",
    "    while (err > eps and it < n_max):\n",
    "        if ( f(a_new) * f(x) < 0 ):  #choose starting points so that f(x1)*f(x2)<0\n",
    "            # root in (a_new,x)\n",
    "            b_new = x\n",
    "        else:\n",
    "            # root in (x,b_new)\n",
    "            a_new = x\n",
    "        \n",
    "        x_new = mean([a_new,b_new])\n",
    "        \n",
    "        #err = 0.5 *(b_new -a_new)\n",
    "        err= abs(f(x_new))\n",
    "        #err = abs(x-x_new)\n",
    "        \n",
    "        errors.append(err) #create a list of error to plot later\n",
    "        x = x_new\n",
    "        it += 1\n",
    "    \n",
    "    \n",
    "    semilogy(errors) #semilog graph of the error\n",
    "    print (\"Number of iterations:  \",it)\n",
    "    print (\"Zero of the function:  \",x)\n",
    "    print (\"Error associated:  \",err)\n",
    "    print (\"    \")\n",
    "    print (\"                          Error plot (semilog)\")\n",
    "    return errors\n",
    "\n",
    "#equivalent to the main\n",
    "errors_bisect = bisect(f,a,b,eps,n_max)\n",
    "          \n",
    "        "
   ]
  },
  {
   "cell_type": "code",
   "execution_count": 15,
   "metadata": {},
   "outputs": [],
   "source": [
    "# is the number of iterations coherent with the theoretical estimation?"
   ]
  },
  {
   "cell_type": "markdown",
   "metadata": {},
   "source": [
    "In order to find out other methods for solving non-linear equations, let's compute the Taylor's series of $f(x^k)$ up to the first order \n",
    "\n",
    "$$\n",
    "f(x^k) \\simeq f(x^k) + (x-x^k)f^{\\prime}(x^k)\n",
    "$$\n",
    "which suggests the following iterative scheme\n",
    "$$\n",
    "x^{k+1} = x^k - \\frac{f(x^k)}{f^{\\prime}(x^k)}\n",
    "$$\n",
    "\n",
    "The following methods are obtained applying the above scheme where\n",
    "\n",
    "$$\n",
    "f^{\\prime}(x^k) \\approx q^k\n",
    "$$"
   ]
  },
  {
   "cell_type": "markdown",
   "metadata": {},
   "source": [
    "## Newton's method\n",
    "$$\n",
    "q^k = f^{\\prime}(x^k)\n",
    "$$\n",
    "\n",
    "$$\n",
    "x^{k+1} = x^k - \\frac{f(x^k)}{q^k}\n",
    "$$"
   ]
  },
  {
   "cell_type": "code",
   "execution_count": 87,
   "metadata": {},
   "outputs": [
    {
     "name": "stdout",
     "output_type": "stream",
     "text": [
      "Number of iterations:   10\n",
      "Zero of the function:   -0.9061798459426995\n",
      "Error associated:   2.7725451563961656e-11\n",
      "    \n",
      "                          Error plot (semilog)\n",
      "CPU times: user 92.4 ms, sys: 3.95 ms, total: 96.4 ms\n",
      "Wall time: 93.8 ms\n"
     ]
    },
    {
     "data": {
      "image/png": "[encoded data removed]",
      "text/plain": [
       "<Figure size 432x288 with 1 Axes>"
      ]
     },
     "metadata": {
      "needs_background": "light"
     },
     "output_type": "display_data"
    }
   ],
   "source": [
    "def newton(f,f_prime,x0,eps,n_max):\n",
    "    x=x0\n",
    "    err=abs(f(x0))\n",
    "    errors=[err]\n",
    "    it=0\n",
    "    while (err > eps and it < n_max):\n",
    "        q=f_prime(x)\n",
    "        x= x- (f(x)/q)\n",
    "        it+=1\n",
    "        err= abs(f(x))\n",
    "        errors.append(err) #create a list of error to plot later\n",
    "    \n",
    "    semilogy(errors) #semilog graph of the error\n",
    "    print (\"Number of iterations:  \",it)\n",
    "    print (\"Zero of the function:  \",x)\n",
    "    print (\"Error associated:  \",err)\n",
    "    print (\"    \")\n",
    "    print (\"                          Error plot (semilog)\")\n",
    "    return errors\n",
    "    \n",
    "%time errors_newton = newton(f,f_prime,0.76,eps,n_max) #jupyter time it takes to evaluate"
   ]
  },
  {
   "cell_type": "markdown",
   "metadata": {},
   "source": [
    "## Chord method\n",
    "\n",
    "$$\n",
    "q^k \\equiv q = \\frac{f(b)-f(a)}{b-a}\n",
    "$$\n",
    "\n",
    "$$\n",
    "x^{k+1} = x^k - \\frac{f(x^k)}{q}\n",
    "$$"
   ]
  },
  {
   "cell_type": "code",
   "execution_count": 88,
   "metadata": {
    "autoscroll": "json-false",
    "ein.tags": [
     "worksheet-0"
    ],
    "slideshow": {
     "slide_type": "-"
    }
   },
   "outputs": [
    {
     "name": "stdout",
     "output_type": "stream",
     "text": [
      "Number of iterations:   32\n",
      "Zero of the function:   0.9061798459511422\n",
      "Error associated:   8.573014178663546e-11\n",
      "    \n",
      "                          Error plot (semilog)\n",
      "CPU times: user 83 ms, sys: 3.99 ms, total: 86.9 ms\n",
      "Wall time: 84 ms\n"
     ]
    },
    {
     "data": {
      "image/png": "[encoded data removed]",
      "text/plain": [
       "<Figure size 432x288 with 1 Axes>"
      ]
     },
     "metadata": {
      "needs_background": "light"
     },
     "output_type": "display_data"
    }
   ],
   "source": [
    "def chord(f,a,b,x0,eps,n_max):\n",
    "    x=x0\n",
    "    err=abs(f(x0))\n",
    "    errors=[err]\n",
    "    it=0\n",
    "    while (err>eps and it<n_max):\n",
    "        q= (f(b)-f(a))/(b-a)\n",
    "        x=x-(f(x)/q)\n",
    "        err=abs(f(x))\n",
    "        errors.append(err)\n",
    "        it+=1\n",
    "    semilogy(errors) #semilog graph of the error\n",
    "    print (\"Number of iterations:  \",it)\n",
    "    print (\"Zero of the function:  \",x)\n",
    "    print (\"Error associated:  \",err)\n",
    "    print (\"    \")\n",
    "    print (\"                          Error plot (semilog)\")\n",
    "    return errors\n",
    "\n",
    "\n",
    "%time errors_chord = chord (f,a,b,0.76,eps,n_max)"
   ]
  },
  {
   "cell_type": "markdown",
   "metadata": {},
   "source": [
    "## Secant method\n",
    "\n",
    "$$\n",
    "q^k = \\frac{f(x^k)-f(x^{k-1})}{x^k - x^{k-1}}\n",
    "$$\n",
    "\n",
    "$$\n",
    "x^{k+1} = x^k - \\frac{f(x^k)}{q^k}\n",
    "$$\n",
    "\n",
    "Note that this algorithm requirs **two** initial points"
   ]
  },
  {
   "cell_type": "code",
   "execution_count": 89,
   "metadata": {},
   "outputs": [
    {
     "name": "stdout",
     "output_type": "stream",
     "text": [
      "Number of iterations:   10\n",
      "Zero of the function:   0.906179845938679\n",
      "Error associated:   1.0302072109182961e-13\n",
      "    \n",
      "                          Error plot (semilog)\n",
      "CPU times: user 90.3 ms, sys: 3.22 ms, total: 93.5 ms\n",
      "Wall time: 92.1 ms\n"
     ]
    },
    {
     "data": {
      "image/png": "[encoded data removed]",
      "text/plain": [
       "<Figure size 432x288 with 1 Axes>"
      ]
     },
     "metadata": {
      "needs_background": "light"
     },
     "output_type": "display_data"
    }
   ],
   "source": [
    "def secant(f,x0,x00,eps,n_max):\n",
    "    err=eps+1\n",
    "    errors=[err]\n",
    "    it=0\n",
    "    while (err>eps and it<n_max):\n",
    "        q= (f(x00)-f(x0))/(x00-x0)\n",
    "        x0=x00\n",
    "        x00=x00-(f(x00)/q)\n",
    "        err=abs(f(x00))\n",
    "        errors.append(err)\n",
    "        it+=1\n",
    "    semilogy(errors) #semilog graph of the error\n",
    "    print (\"Number of iterations:  \",it)\n",
    "    print (\"Zero of the function:  \",x00)\n",
    "    print (\"Error associated:  \",err)\n",
    "    print (\"    \")\n",
    "    print (\"                          Error plot (semilog)\")\n",
    "    return errors\n",
    "\n",
    "\n",
    "#errors_chord = chord (f,a,b,x0,eps,n_max)\n",
    "    \n",
    "%time errors_secant = secant(f,x0,0.76,eps,n_max)"
   ]
  },
  {
   "cell_type": "markdown",
   "metadata": {},
   "source": [
    "## Fixed point iterations\n",
    "\n",
    "$$\n",
    "f(x)=0 \\to x-\\phi(x)=0\n",
    "$$\n",
    "\n",
    "$$\n",
    "x^{k+1} = \\phi(x^k)\n",
    "$$"
   ]
  },
  {
   "cell_type": "code",
   "execution_count": 90,
   "metadata": {},
   "outputs": [
    {
     "name": "stdout",
     "output_type": "stream",
     "text": [
      "Number of iterations:   10\n",
      "Zero of the function:   0.5384693101122793\n",
      "Error associated:   1.6001516714091794e-11\n",
      "    \n",
      "                          Error plot (semilog)\n"
     ]
    },
    {
     "data": {
      "image/png": "[encoded data removed]",
      "text/plain": [
       "<Figure size 432x288 with 1 Axes>"
      ]
     },
     "metadata": {
      "needs_background": "light"
     },
     "output_type": "display_data"
    }
   ],
   "source": [
    "def fixed_point(phi,x0,eps,n_max):\n",
    "    it=0\n",
    "    x=x0\n",
    "    err=abs(f(x0))\n",
    "    errors=[err]\n",
    "    while (err>eps and it<n_max):\n",
    "        x=phi(x)\n",
    "        err=abs(f(x))\n",
    "        errors.append(err)\n",
    "        it+=1\n",
    "    semilogy(errors) #semilog graph of the error\n",
    "    print (\"Number of iterations:  \",it)\n",
    "    print (\"Zero of the function:  \",x)\n",
    "    print (\"Error associated:  \",err)\n",
    "    print (\"    \")\n",
    "    print (\"                          Error plot (semilog)\")\n",
    "    return errors\n",
    "\n",
    "\n",
    "errors_fixed = fixed_point(phi,0.76,eps,n_max)\n",
    "        "
   ]
  },
  {
   "cell_type": "markdown",
   "metadata": {},
   "source": [
    "## Comparison"
   ]
  },
  {
   "cell_type": "code",
   "execution_count": 91,
   "metadata": {},
   "outputs": [
    {
     "data": {
      "image/png": "[encoded data removed]",
      "text/plain": [
       "<Figure size 432x288 with 1 Axes>"
      ]
     },
     "metadata": {
      "needs_background": "light"
     },
     "output_type": "display_data"
    }
   ],
   "source": [
    "# plot the error convergence for the methods\n",
    "loglog(errors_bisect, label='bisect')\n",
    "loglog(errors_chord, label='chord')\n",
    "loglog(errors_secant, label='secant')\n",
    "loglog(errors_newton, label ='newton')\n",
    "loglog(errors_fixed, label ='fixed')\n",
    "_ = legend()"
   ]
  },
  {
   "cell_type": "code",
   "execution_count": null,
   "metadata": {},
   "outputs": [],
   "source": [
    "# Let's compare the scipy implmentation of Newton's method with our.."
   ]
  },
  {
   "cell_type": "code",
   "execution_count": 68,
   "metadata": {},
   "outputs": [
    {
     "name": "stdout",
     "output_type": "stream",
     "text": [
      "CPU times: user 36 µs, sys: 0 ns, total: 36 µs\n",
      "Wall time: 39.6 µs\n"
     ]
    },
    {
     "data": {
      "text/plain": [
       "0.906179845938664"
      ]
     },
     "execution_count": 68,
     "metadata": {},
     "output_type": "execute_result"
    }
   ],
   "source": [
    "import scipy.optimize as opt\n",
    "%time opt.newton(f, 1.0, f_prime, tol = eps)"
   ]
  },
  {
   "cell_type": "code",
   "execution_count": null,
   "metadata": {
    "collapsed": true
   },
   "outputs": [],
   "source": []
  }
 ],
 "metadata": {
  "anaconda-cloud": {},
  "kernelspec": {
   "display_name": "Python 3",
   "language": "python",
   "name": "python3"
  },
  "language_info": {
   "codemirror_mode": {
    "name": "ipython",
    "version": 3
   },
   "file_extension": ".py",
   "mimetype": "text/x-python",
   "name": "python",
   "nbconvert_exporter": "python",
   "pygments_lexer": "ipython3",
   "version": "3.6.6"
  },
  "name": "07_non_linear_equations.ipynb"
 },
 "nbformat": 4,
 "nbformat_minor": 1
}
