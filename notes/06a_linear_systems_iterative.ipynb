{
 "cells": [
  {
   "cell_type": "markdown",
   "metadata": {},
   "source": [
    "# Iterative methods for solving linear systems\n",
    "\n",
    "\n"
   ]
  },
  {
   "cell_type": "markdown",
   "metadata": {},
   "source": [
    "Recall the prototypal PDE problem introduced in the Lecture 08:\n",
    "$$\n",
    "-u_{xx}(x) = f(x)\\quad\\mathrm{ in }\\ \\Omega = (0, 1)\n",
    "$$\n",
    "$$\n",
    "u(x) = 0, \\quad\\mathrm{ on }\\ \\partial\\Omega = \\{0, 1\\}\n",
    "$$\n",
    "\n",
    "For the numerical discretization of the problem, we consider a **Finite Difference (FD) Approximation**. Let $n$ be an integer, a consider a uniform subdivision of the interval $(0,1)$ using $n$ equispaced points, denoted by $\\{x_i\\}_{i=0}^n$ . Moreover, let $u_i$ be the FD approximation of $u(x_i)$, and similarly $f_i \\approx f(x_i)$.\n",
    "\n",
    "The linear system that we need to solve is\n",
    "$$\n",
    "u_i = 0 \\qquad\\qquad\\qquad\\qquad i=0,\n",
    "$$\n",
    "$$\n",
    "\\frac{-u_{i-1} + 2u_i - u_{i+1}}{h^2} = f_i \\qquad\\qquad\\qquad i=1, \\ldots, n-1,\\qquad\\qquad\\qquad(P)\n",
    "$$\n",
    "$$\n",
    "u_i = 0 \\qquad\\qquad\\qquad\\qquad i=n.\n",
    "$$"
   ]
  },
  {
   "cell_type": "code",
<<<<<<< HEAD:notes/06_linear_systems_iterative.ipynb
   "execution_count": 35,
=======
   "execution_count": 14,
>>>>>>> 5a3e333cfed390691ad9ee8011c0049becb6f216:notes/06a_linear_systems_iterative.ipynb
   "metadata": {},
   "outputs": [
    {
     "name": "stdout",
     "output_type": "stream",
     "text": [
      "33\n"
     ]
    }
   ],
   "source": [
    "%matplotlib inline\n",
    "from numpy import *\n",
    "from matplotlib.pyplot import *\n",
    "\n",
    "n = 33\n",
    "h = 1./(n-1)\n",
    "\n",
    "x=linspace(0,1,n)\n",
    "\n",
    "a = -ones((n-1,)) # Offdiagonal entries\n",
    "b = 2*ones((n,)) # Diagonal entries\n",
    "A = (diag(a, -1) + diag(b, 0) + diag(a, +1))\n",
    "A /= h**2\n",
    "f = x*(1.-x)\n",
    "# Change first row of the matrix A\n",
    "A[0,:] = 0\n",
    "A[:,0] = 0\n",
    "A[0,0] = 1\n",
    "f[0] = 0\n",
    "\n",
    "# Change last row of the matrix A\n",
    "A[-1,:] = 0\n",
    "A[:,-1] = 0\n",
    "A[-1,-1] = 1\n",
    "f[-1] = 0\n",
    "\n",
    "# Solution by direct method\n",
    "u = linalg.solve(A, f)"
   ]
  },
  {
   "cell_type": "markdown",
   "metadata": {},
   "source": [
    "## Jacobi\n",
    "\n",
    "$$ \n",
    "x_i^{k+1} = \\frac{1}{A_{ii}} \\times \\left(b_i - \\sum_{j\\neq i} a_{ij}x_j^k\\right)\n",
    "$$\n",
    "\n"
   ]
  },
  {
   "cell_type": "code",
   "execution_count": 55,
   "metadata": {
    "scrolled": true
   },
   "outputs": [
    {
     "name": "stdout",
     "output_type": "stream",
     "text": [
      "converged! at step 4771\n",
      "Relative error:  9.96660915836e-11\n"
     ]
    }
   ],
   "source": [
    "def jacobi(A, b, nmax=10000, eps=1e-10):\n",
    "    x=zeros(len(A))\n",
    "    count=0\n",
    "    for k in range(1,nmax):\n",
    "        A2=A-diag(diag(A))\n",
    "        x=(1/diag(A))*(b-dot(A2,x))\n",
    "        count+=1\n",
    "        if linalg.norm(dot(A,x)-b)/linalg.norm(b)<eps:\n",
    "            print(\"converged! at step\", count)\n",
    "            return x\n",
    "    return x\n",
    "\n",
    "sol_jacobi = jacobi(A, f)\n",
    "print(\"Relative error: \", linalg.norm(sol_jacobi - u)/linalg.norm(u))"
   ]
  },
  {
   "cell_type": "markdown",
   "metadata": {},
   "source": [
    "## Gauss-Seidel\n",
    "\n",
    "$$ \n",
    "x_i^{k+1} = \\frac{1}{A_{ii}} \\times \\left(b_i - \\sum_{j=0}^{i-1} a_{ij}x_j^{k+1} - \\sum_{j=i+1}^{N} a_{ij}x_j^k\\right)\n",
    "$$"
   ]
  },
  {
   "cell_type": "code",
   "execution_count": 56,
   "metadata": {},
   "outputs": [
    {
     "name": "stdout",
     "output_type": "stream",
     "text": [
      "converged! at step 2387\n",
      "9.85874862681e-11\n"
     ]
    }
   ],
   "source": [
    "def gauss_seidel(A,b,nmax=10000, eps=1e-10):\n",
    "    x=zeros(len(A))\n",
    "    count=0\n",
    "    for k in range(1,nmax):\n",
    "        for i in range (0,len(A)):\n",
    "            sum1=0\n",
    "            sum2=0         \n",
    "            for j in range(i+1,len(A)): #done before update\n",
    "                sum2+=A[i,j]*x[j]\n",
    "            for j in range(0,i): #done before update\n",
    "                sum1+=A[i,j]*x[j]\n",
    "            \n",
    "            x[i]=(1/A[i,i])*(b[i]-sum1-sum2)\n",
    "\n",
    "        count+=1\n",
    "        if linalg.norm(dot(A,x)-b)/linalg.norm(b)<eps:\n",
    "            print(\"converged! at step\", count)\n",
    "            return x\n",
    "\n",
    "    return x\n",
    "\n",
    "\n",
    "sol_gauss_seidel = gauss_seidel(A, f)\n",
    "print(linalg.norm(sol_gauss_seidel - u)/linalg.norm(u))"
   ]
  },
  {
   "cell_type": "markdown",
   "metadata": {
    "collapsed": true
   },
   "source": [
    "   ## Gradient method\n",
    "   $$\n",
    "   {\\bf r}^k = {\\bf b} - A {\\bf x}^k\n",
    "   $$\n",
    "   \n",
    "   $$\n",
    "   \\alpha^k = \\frac{{\\bf r}^{k^{T}} {\\bf r}^k}{{\\bf r}^{k^{T}} A{\\bf r}^k}\n",
    "   $$\n",
    "   \n",
    "   $$\n",
    "   {\\bf x}^{k+1} = {\\bf x}^k + \\alpha^k {\\bf r}^k\n",
    "   $$\n",
    "   \n",
    "   ### Preconditioned gradient method\n",
    "   $$\n",
    "   P{\\bf z}^k =  {\\bf r}^k\n",
    "   $$\n",
    "   \n",
    "   $$\n",
    "   \\alpha^k = \\frac{{\\bf z}^{k^{T}} {\\bf r}^k}{{\\bf z}^{k^{T}} A{\\bf z}^k}\n",
    "   $$\n",
    " \n",
    "   $$\n",
    "   {\\bf x}^{k+1} = {\\bf x}^k + \\alpha^k {\\bf z}^k\n",
    "   $$ \n",
    "   \n",
    "   $$\n",
    "   {\\bf r}^{k+1} = {\\bf r}^k  - \\alpha^k A{\\bf z}^k\n",
    "   $$"
   ]
  },
  {
   "cell_type": "code",
   "execution_count": 62,
   "metadata": {},
   "outputs": [
    {
     "name": "stdout",
     "output_type": "stream",
     "text": [
      "converged! at step 3901\n",
      "7.37667667956e-11\n",
      "converged! at step 1\n",
      "2.81659916925e-15\n"
     ]
    }
   ],
   "source": [
    "def gradient(A, b, P, nmax=8000, eps=1e-10):\n",
    "    x=zeros(len(A))\n",
    "    count=0\n",
    "    r=b-dot(A,x)\n",
    "    for k in range(1,nmax):\n",
    "        z=dot(linalg.inv(P),r)\n",
    "        alpha=dot(z,r)/(dot(z,dot(A,z)))\n",
    "        x+= alpha*z\n",
    "        r=r-alpha*dot(A,z)\n",
    "        count+=1\n",
    "        if linalg.norm(dot(A,x)-b)/linalg.norm(b)<eps:\n",
    "            print(\"converged! at step\", count)\n",
    "            return x\n",
    "\n",
    "    return x\n",
    "\n",
    "sol_gradient = gradient(A, f, identity(len(A)))\n",
    "print(linalg.norm(sol_gradient - u)/linalg.norm(u))\n",
    "sol_preconditioned_gradient = gradient(A, f, A)\n",
    "print(linalg.norm(sol_preconditioned_gradient - u)/linalg.norm(u))"
   ]
  },
  {
   "cell_type": "markdown",
   "metadata": {},
   "source": [
    "## Conjugate gradient\n",
    "   \n",
    "$$\n",
    "   \\alpha^k = \\frac{{\\bf p}^{k^{T}} {\\bf r}^k}{{\\bf p}^{k^{T}} A{\\bf p}^k}\n",
    "   $$\n",
    "   \n",
    "      \n",
    "   $$\n",
    "   {\\bf x}^{k+1} = {\\bf x}^k + \\alpha^k {\\bf p}^k\n",
    "   $$\n",
    "   \n",
    "   $$\n",
    "   {\\bf r}^{k+1} = {\\bf r}^k - \\alpha^kA {\\bf p}^k\n",
    "   $$\n",
    "\n",
    "   $$\n",
    "   \\beta^k = \\frac{(A{\\bf p}^{k})^{T}{\\bf r}^{k+1}}{(A{\\bf p}^{k})^{T}  {\\bf p}^k}\n",
    "   $$\n",
    "   \n",
    "   $$\n",
    "   {\\bf p}^{k+1} = {\\bf r}^{k+1} - \\beta^k{\\bf p}^k\n",
    "   $$\n",
    "\n",
    "   \n",
    "   ### Preconditioned conjugate gradient\n",
    "   \n",
    "   \n",
    "   $$\n",
    "   \\alpha^k = \\frac{{\\bf p}^{k^{T}} {\\bf r}^k}{(A{\\bf p}^{k})^{T}{\\bf p}^k}\n",
    "   $$\n",
    "   \n",
    "      \n",
    "   $$\n",
    "   {\\bf x}^{k+1} = {\\bf x}^k + \\alpha^k {\\bf p}^k\n",
    "   $$\n",
    "   \n",
    "   $$\n",
    "   {\\bf r}^{k+1} = {\\bf r}^k - \\alpha^kA {\\bf p}^k\n",
    "   $$\n",
    "\n",
    "$$\n",
    "P{\\bf z}^{k+1} = {\\bf r}^{k+1}\n",
    "$$\n",
    "\n",
    "   $$\n",
    "   \\beta^k = \\frac{(A{\\bf p}^{k})^{T}{\\bf z}^{k+1}}{{\\bf p}^{k^T}A  {\\bf p}^k}\n",
    "   $$\n",
    "   \n",
    "   $$\n",
    "   {\\bf p}^{k+1} = {\\bf z}^{k+1} - \\beta^k{\\bf p}^k\n",
    "   $$\n"
   ]
  },
  {
   "cell_type": "code",
   "execution_count": 98,
   "metadata": {},
   "outputs": [
    {
     "name": "stdout",
     "output_type": "stream",
     "text": [
      "converged! at step 238\n",
      "1.64098974633e-10\n"
     ]
    },
    {
     "data": {
      "text/plain": [
       "[<matplotlib.lines.Line2D at 0x7f8a2f72a9e8>]"
      ]
     },
     "execution_count": 98,
     "metadata": {},
     "output_type": "execute_result"
    },
    {
     "data": {
      "image/png": "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\n",
      "text/plain": [
       "<Figure size 432x288 with 1 Axes>"
      ]
     },
     "metadata": {
      "needs_background": "light"
     },
     "output_type": "display_data"
    }
   ],
   "source": [
<<<<<<< HEAD:notes/06_linear_systems_iterative.ipynb
    "def conjugate_gradient(A, b, P, nmax=100000, eps=1e-10):\n",
    "    x=zeros(len(A))\n",
    "    count=0\n",
    "    r=b-dot(A,x)\n",
    "    p=ones(len(A))\n",
    "    error=[]\n",
    "    for k in range(0,nmax):\n",
    "        alpha=dot(p,r)/(dot(dot(A,p),p))\n",
    "        x+= alpha*p\n",
    "        r=r-alpha*dot(A,p)\n",
    "        z=dot(linalg.inv(P),r)\n",
    "        beta= dot(dot(A,p),z)/(dot(dot(A,p),p))\n",
    "        p=z-(beta*p)\n",
    "        count+=1\n",
    "        error.append(linalg.norm(dot(A,x)-b)/linalg.norm(b))\n",
    "        if error[k]<eps:\n",
    "            print(\"converged! at step\", count)       \n",
    "            return x,error\n",
    "\n",
    "    return x,error\n",
    "\n",
=======
    "def conjugate_gradient(A, b, P, nmax=len(A), eps=1e-10):\n",
    "    N=len(A)\n",
    "    x = zeros_like(b)\n",
    "    tol = eps + 1\n",
    "    it = 0\n",
    "    r = b - dot(A,x)\n",
    "    rho_old = 1.\n",
    "    p_old = zeros_like(b)\n",
    "    while (it < nmax and tol > eps):\n",
    "        it += 1\n",
    "        z = linalg.solve(P,r)\n",
    "        rho = dot(r,z)\n",
    "        if (it > 1):\n",
    "            beta = rho/rho_old\n",
    "            p = z + beta*p_old\n",
    "        else:\n",
    "            p = z\n",
    "        q = dot(A,p)\n",
    "        alpha = rho/(dot(p,q))\n",
    "        x += p*alpha\n",
    "        r -= q*alpha\n",
    "        \n",
    "        p_old = p\n",
    "        rho_old = rho\n",
    "        \n",
    "        tol = linalg.norm(r,2)\n",
    "        \n",
    "    print(it, tol)\n",
    "    return x\n",
>>>>>>> 5a3e333cfed390691ad9ee8011c0049becb6f216:notes/06a_linear_systems_iterative.ipynb
    "\n",
    "sol_conjugate_gradient,error = conjugate_gradient(A, f, identity(len(A)))\n",
    "print(linalg.norm(sol_conjugate_gradient - u)/linalg.norm(u))\n",
    "\n",
    "semilogy(error)"
   ]
  },
  {
   "cell_type": "code",
   "execution_count": null,
   "metadata": {},
   "outputs": [],
   "source": []
  }
 ],
 "metadata": {
  "anaconda-cloud": {},
  "kernelspec": {
   "display_name": "Python 3",
   "language": "python",
   "name": "python3"
  },
  "language_info": {
   "codemirror_mode": {
    "name": "ipython",
    "version": 3
   },
   "file_extension": ".py",
   "mimetype": "text/x-python",
   "name": "python",
   "nbconvert_exporter": "python",
   "pygments_lexer": "ipython3",
   "version": "3.6.6"
  }
 },
 "nbformat": 4,
 "nbformat_minor": 1
}
